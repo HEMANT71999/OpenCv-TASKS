{
 "cells": [
  {
   "cell_type": "code",
   "execution_count": 20,
   "id": "aea4d67c",
   "metadata": {},
   "outputs": [],
   "source": [
    "#importing librarires\n",
    "import cv2\n",
    "import numpy as np\n"
   ]
  },
  {
   "cell_type": "code",
   "execution_count": 21,
   "id": "effc43a4",
   "metadata": {},
   "outputs": [],
   "source": [
    "#TASK 4.1 CREATING YOUR OWN IMAGE\n",
    "img=np.zeros((255,255,3))\n",
    "cv2.imshow(\"images\" ,img)\n",
    "cv2.waitKey()\n",
    "cv2.destroyAllWindows()\n",
    "\n"
   ]
  },
  {
   "cell_type": "code",
   "execution_count": 22,
   "id": "9a5faafe",
   "metadata": {},
   "outputs": [],
   "source": [
    "#TASK 4.2 crop and swap\n",
    "import cv2\n",
    "import numpy\n",
    "\n",
    "\n",
    "\n",
    "pokemon1=cv2.imread('pokemon1.png') #255 225\n",
    "#pokemon1.shape\n",
    "pokemon2=cv2.imread('pokemon2.png')  #251,201\n",
    "#pokemon2.shape\n",
    "pokemon1=pokemon1[:251,:201]\n",
    "pokemon1.shape\n",
    "cv2.imshow(\"pokemon1\" ,pokemon1)\n",
    "cv2.waitKey()\n",
    "cv2.destroyAllWindows()\n",
    "\n",
    "\n",
    "cv2.imshow(\"pokemon2\" ,pokemon2)\n",
    "cv2.waitKey()\n",
    "cv2.destroyAllWindows()"
   ]
  },
  {
   "cell_type": "code",
   "execution_count": 23,
   "id": "03657bbf",
   "metadata": {},
   "outputs": [],
   "source": [
    "cropping_pokemon=pokemon2[:100,60:220]\n",
    "pokemon1[:100,60:220]=cropping_pokemon\n",
    "cv2.imshow(\"pokemon change\" ,pokemon1)\n",
    "cv2.waitKey()\n",
    "cv2.destroyAllWindows()\n"
   ]
  },
  {
   "cell_type": "code",
   "execution_count": 11,
   "id": "bd82647f",
   "metadata": {},
   "outputs": [],
   "source": [
    "# Task4.3 collage"
   ]
  },
  {
   "cell_type": "code",
   "execution_count": 24,
   "id": "b800aff0",
   "metadata": {},
   "outputs": [],
   "source": [
    "image1=cv2.imread('pokemon1.png')\n",
    "cv2.imshow(\"HELLO\" ,image1)\n",
    "cv2.waitKey()\n",
    "cv2.destroyAllWindows()\n"
   ]
  },
  {
   "cell_type": "code",
   "execution_count": 25,
   "id": "1943dcb3",
   "metadata": {},
   "outputs": [],
   "source": [
    "image2=cv2.imread('pokemon2.png')\n",
    "cv2.imshow(\"Hy\" ,image2)\n",
    "cv2.waitKey()\n",
    "cv2.destroyAllWindows()\n"
   ]
  },
  {
   "cell_type": "code",
   "execution_count": 26,
   "id": "a10024d6",
   "metadata": {},
   "outputs": [],
   "source": [
    "import numpy as np\n",
    "image2=image2[0:225,0:200]\n",
    "\n",
    "FINAL=np.hstack((image1,image2))\n",
    "\n",
    "cv2.imshow(\"FINAL_PIC\" ,FINAL)\n",
    "cv2.waitKey()\n",
    "cv2.destroyAllWindows()"
   ]
  },
  {
   "cell_type": "code",
   "execution_count": null,
   "id": "d24b1977",
   "metadata": {},
   "outputs": [],
   "source": []
  },
  {
   "cell_type": "code",
   "execution_count": null,
   "id": "158942e0",
   "metadata": {},
   "outputs": [],
   "source": []
  },
  {
   "cell_type": "code",
   "execution_count": null,
   "id": "4e05460d",
   "metadata": {},
   "outputs": [],
   "source": []
  },
  {
   "cell_type": "code",
   "execution_count": 59,
   "id": "450722f9",
   "metadata": {},
   "outputs": [],
   "source": []
  },
  {
   "cell_type": "code",
   "execution_count": 51,
   "id": "4e1c8ea3",
   "metadata": {},
   "outputs": [],
   "source": []
  },
  {
   "cell_type": "code",
   "execution_count": 52,
   "id": "6a141f39",
   "metadata": {},
   "outputs": [],
   "source": [
    "\n"
   ]
  },
  {
   "cell_type": "code",
   "execution_count": null,
   "id": "7146f14a",
   "metadata": {},
   "outputs": [],
   "source": []
  }
 ],
 "metadata": {
  "kernelspec": {
   "display_name": "Python 3",
   "language": "python",
   "name": "python3"
  },
  "language_info": {
   "codemirror_mode": {
    "name": "ipython",
    "version": 3
   },
   "file_extension": ".py",
   "mimetype": "text/x-python",
   "name": "python",
   "nbconvert_exporter": "python",
   "pygments_lexer": "ipython3",
   "version": "3.8.8"
  }
 },
 "nbformat": 4,
 "nbformat_minor": 5
}
